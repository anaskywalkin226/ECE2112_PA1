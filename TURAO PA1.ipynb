{
 "cells": [
  {
   "cell_type": "markdown",
   "id": "d1839a86-6a84-492c-93cf-fcba4bdfdf15",
   "metadata": {},
   "source": [
    "# Number 1: Alphabet Soup Problem"
   ]
  },
  {
   "cell_type": "code",
   "execution_count": 40,
   "id": "b854db4e-7566-4baa-ba07-3f381f032bc5",
   "metadata": {},
   "outputs": [],
   "source": [
    "#1\n",
    "\n",
    "def sortfunction(string):                          #function declaration\n",
    "    print('-'.join(sorted(string)))                #joining the sorted string with \"-\" in between them\n",
    "    "
   ]
  },
  {
   "cell_type": "code",
   "execution_count": 41,
   "id": "b914ce17-763f-4e6b-93b3-ffceb3e625ba",
   "metadata": {},
   "outputs": [
    {
     "name": "stdout",
     "output_type": "stream",
     "text": [
      "a-b-c-d-e-e-f-g-h-i-j-k-l-m-n-o-o-o-o-p-q-r-r-s-t-u-u-v-w-x-y-z\n"
     ]
    }
   ],
   "source": [
    "sortfunction(\"quickbrownfoxjumpsoverthelazydog\")"
   ]
  },
  {
   "cell_type": "code",
   "execution_count": 42,
   "id": "ae536540-50ee-4b9b-93b7-32f3831fc9e6",
   "metadata": {},
   "outputs": [
    {
     "name": "stdout",
     "output_type": "stream",
     "text": [
      "a-a-a-b-n-n\n"
     ]
    }
   ],
   "source": [
    "sortfunction(\"banana\")"
   ]
  },
  {
   "cell_type": "markdown",
   "id": "31df1e8c-85b4-4a95-be9b-b70daae2bf7f",
   "metadata": {},
   "source": [
    "# Number 2: Emoticon Problem"
   ]
  },
  {
   "cell_type": "code",
   "execution_count": 47,
   "id": "fe5941c6-34ac-412a-8af3-38b2e452d18c",
   "metadata": {},
   "outputs": [
    {
     "name": "stdout",
     "output_type": "stream",
     "text": [
      "Look at my :)\n",
      "You make me :D\n",
      "Now I am :((\n",
      "YOU MAKE ME SO >:(\n",
      "I can't :)\n"
     ]
    }
   ],
   "source": [
    "#2\n",
    "\n",
    "strings = [                                           #Inputted string data to be compared to the keys in the dictionary below\n",
    "    \"Look at my smile\",\n",
    "    \"You make me Grin\",\n",
    "    \"Now I am Sad\",\n",
    "    \"YOU MAKE ME SO MAD\",\n",
    "    \"I can't smile\"\n",
    "]\n",
    "\n",
    "emoticons = {                                        #Dictionary sorted as word:emoji respectively\n",
    "    \"smile\": \":)\",\n",
    "    \"grin\": \":D\",\n",
    "    \"sad\": \":((\",\n",
    "    \"mad\": \">:(\"\n",
    "}\n",
    "\n",
    "for s in strings:                                    #for loop that goes through each item in the list strings\n",
    "    for word, emoji in emoticons.items():            #for loop that goes through the items inside the dictionary\n",
    "        if word in s:                                #checking for keys that are comparable to the strings\n",
    "            s = s.replace(word, emoji)               #line that replaces the compared strings and keys into values called emoji\n",
    "        if word.capitalize() in s:                   #checking for capitalization (capital first word \"Angry\")\n",
    "            s = s.replace(word.capitalize(), emoji)  #replaces capitalized word\n",
    "        if word.upper() in s:                        #checking for strings that are in all-caps\n",
    "            s = s.replace(word.upper(), emoji)       #replaces all-capped word\n",
    "    \n",
    "    print(s)                                         #we print the updated version of s"
   ]
  },
  {
   "cell_type": "markdown",
   "id": "36bafe26-8b97-4eff-8a2a-9c55b7aa677b",
   "metadata": {},
   "source": [
    "# Number 3: Unpacking List Problem"
   ]
  },
  {
   "cell_type": "code",
   "execution_count": 48,
   "id": "9befd2ca-c319-4138-b007-e609b438b00f",
   "metadata": {},
   "outputs": [
    {
     "name": "stdout",
     "output_type": "stream",
     "text": [
      "First:  1\n",
      "Middle:  2 3 4 5 6 7 8 9\n",
      "Last:  10\n"
     ]
    }
   ],
   "source": [
    "#3\n",
    "\n",
    "list = [1, 10, 2, 3, 4, 5, 6, 7, 8, 9]              #list declaration\n",
    "\n",
    "first, last, *middle = list                         #unpacking the list\n",
    "\n",
    "print(\"First: \", first)                             #printing the list with string \"First: \" then unpacked element of the list using first\n",
    "print(\"Middle: \", *middle)                          #printing the list with string \"Middle: \" then the remaining unpacked elements assigned in *middle\n",
    "print(\"Last: \", last)                               #printing the list with string \"Last: \" then unpacked element of the list using last"
   ]
  }
 ],
 "metadata": {
  "kernelspec": {
   "display_name": "Python [conda env:base] *",
   "language": "python",
   "name": "conda-base-py"
  },
  "language_info": {
   "codemirror_mode": {
    "name": "ipython",
    "version": 3
   },
   "file_extension": ".py",
   "mimetype": "text/x-python",
   "name": "python",
   "nbconvert_exporter": "python",
   "pygments_lexer": "ipython3",
   "version": "3.13.5"
  }
 },
 "nbformat": 4,
 "nbformat_minor": 5
}
